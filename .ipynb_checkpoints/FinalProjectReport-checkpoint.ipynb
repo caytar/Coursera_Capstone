{
 "cells": [
  {
   "cell_type": "markdown",
   "metadata": {},
   "source": [
    "# **Final Project Report**"
   ]
  },
  {
   "cell_type": "raw",
   "metadata": {},
   "source": []
  },
  {
   "cell_type": "markdown",
   "metadata": {},
   "source": [
    "## 1) Description and Background Discussion "
   ]
  },
  {
   "cell_type": "markdown",
   "metadata": {},
   "source": [
    "Toronto is the most populous city in Canada, with a population of 2.7 million. It has many historical, cultural and business related places/centers. Toronto is also well known as a multicultural city. Besides the GDP per capita is over US$45K. Therefore this means people living in Toronto has considerably good income. \n",
    "\n",
    "In the light of this knowledge, starting a new job in Toronto especially related with foods and dishes will have a good audience. In this project, the appropriate locations will be discussed by using some data science methodologies with reliable data gathered from Wikipedia and Foursquare."
   ]
  },
  {
   "cell_type": "markdown",
   "metadata": {},
   "source": [
    "## 2) Data and Data Sources"
   ]
  },
  {
   "cell_type": "markdown",
   "metadata": {},
   "source": [
    "These are the data sources in the project :\n",
    "* Postal codes of Toronto ( http://en.wikipedia.org/w/index.php?title=List_of_postal_codes_of_Canada:_M&oldid=947772202 )\n",
    "* Coordinates of the postal codes by using geocoder library\n",
    "* Venue information by using Foursquare API\n",
    "* Open Data Portal of Toronto City.\n"
   ]
  },
  {
   "cell_type": "markdown",
   "metadata": {},
   "source": [
    "How will these data help us to understand and then solve the problem?\n",
    "* The populatin density of the locations will be discovered\n",
    "* The competitors will be analysed according to the locations\n",
    "* The categories will be found such as \"Pizza, Cafe, Restaurant, ...\" \n",
    "* In the light of the learnt data, appropriate recommendation will be prepared"
   ]
  },
  {
   "cell_type": "markdown",
   "metadata": {},
   "source": [
    "## 3) Machine Learning Methods and Statistical Data"
   ]
  },
  {
   "cell_type": "code",
   "execution_count": null,
   "metadata": {},
   "outputs": [],
   "source": [
    "'''\n",
    "# To reduce the complexity of data gathering, only the Foursquare API will be used. \n",
    "# It is easier to get the venues by near = 'toronto' in Foursquare API.\n",
    "# Therefore the lines below commented and kept for future needs for an alternative data source !\n",
    "\n",
    "import pandas as pd\n",
    "import numpy as np\n",
    "\n",
    "wiki = pd.read_html(\"http://en.wikipedia.org/w/index.php?title=List_of_postal_codes_of_Canada:_M&oldid=947772202\")\n",
    "\n",
    "alldata = []\n",
    "for column in wiki[0].columns:                           \n",
    "    tmp = wiki[0][column][ wiki[0][column].str.contains('Not assigned') == False ]    \n",
    "    for item in tmp.values:\n",
    "        first_idx = item.find(\"(\")  \n",
    "        item=item.replace('(','')\n",
    "        item=item.replace(')','')\n",
    "        item=item.replace(' /',',')\n",
    "        if len(item[first_idx:])<=1:\n",
    "            item = item + item[3:first_idx]\n",
    "        alldata.append([\n",
    "            item[0:3], \n",
    "            item[3:first_idx], \n",
    "            item[first_idx:]\n",
    "            ])\n",
    "\n",
    "simplified = pd.DataFrame(alldata, columns=['PostalCode', 'Borough', 'Neighborhood'])\n",
    "\n",
    "simplified.insert(loc=3,column=\"Latitude\",value=0.0)\n",
    "simplified.insert(loc=4,column=\"Longitude\",value=0.0)\n",
    "\n",
    "\n",
    "import geocoder \n",
    "\n",
    "# ARCGIS provider is used, google is very limited \n",
    "for index,row in simplified.iterrows():\n",
    "    g = geocoder.arcgis(row[\"Borough\"] + \", \" + row[\"PostalCode\"] + \", Canada\" )\n",
    "    simplified.at[index,'Latitude'] = g.latlng[0]\n",
    "    simplified.at[index,'Longitude'] = g.latlng[1]\n",
    "\n",
    "print(simplified.drop('Neighborhood', axis=1))\n",
    "\n",
    "\n",
    "%matplotlib tk\n",
    "simplified.plot()\n",
    "\n",
    "'''\n"
   ]
  },
  {
   "cell_type": "code",
   "execution_count": 2,
   "metadata": {},
   "outputs": [
    {
     "name": "stdout",
     "output_type": "stream",
     "text": [
      "                                              venues\n",
      "0  [{'id': '5a2f3c9208f52160e94f963f', 'name': 'T...\n"
     ]
    }
   ],
   "source": [
    "import foursquare\n",
    "\n",
    "# Construct the client object\n",
    "client = foursquare.Foursquare(\n",
    "    client_id='ZMIFBYADUNN35RUQHQFY32PKLS2F14KUTAC4J2CMU35FVLSJ', \n",
    "    client_secret='KOAYUEJ5BV2ORNJKFVYPUKMAZPTOUY5FPOKKZ3E5TCL4ULHA'\n",
    "    )\n",
    "\n",
    "liste = client.venues.search(params={'query': 'restaurant', 'll': '43,-79'})\n",
    "\n",
    "liste2 = pd.json_normalize(liste)\n",
    "print(liste2)\n",
    "#fs = pd.read_json(liste2)\n"
   ]
  },
  {
   "cell_type": "markdown",
   "metadata": {},
   "source": [
    "## 4) Results"
   ]
  },
  {
   "cell_type": "code",
   "execution_count": null,
   "metadata": {},
   "outputs": [],
   "source": []
  },
  {
   "cell_type": "markdown",
   "metadata": {},
   "source": [
    "## 5) Discussion of Observations and Recommendations"
   ]
  },
  {
   "cell_type": "code",
   "execution_count": null,
   "metadata": {},
   "outputs": [],
   "source": []
  },
  {
   "cell_type": "markdown",
   "metadata": {},
   "source": [
    "## 6) Conclusion"
   ]
  },
  {
   "cell_type": "code",
   "execution_count": null,
   "metadata": {},
   "outputs": [],
   "source": []
  }
 ],
 "metadata": {
  "kernelspec": {
   "display_name": "Python 3",
   "language": "python",
   "name": "python3"
  },
  "language_info": {
   "codemirror_mode": {
    "name": "ipython",
    "version": 3
   },
   "file_extension": ".py",
   "mimetype": "text/x-python",
   "name": "python",
   "nbconvert_exporter": "python",
   "pygments_lexer": "ipython3",
   "version": "3.8.3"
  }
 },
 "nbformat": 4,
 "nbformat_minor": 4
}
