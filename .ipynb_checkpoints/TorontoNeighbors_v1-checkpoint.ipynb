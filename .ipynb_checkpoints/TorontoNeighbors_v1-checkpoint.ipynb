{
 "cells": [
  {
   "cell_type": "markdown",
   "metadata": {},
   "source": [
    "## Segmenting and Clustering Neighborhoods in Toronto\n"
   ]
  },
  {
   "cell_type": "code",
   "execution_count": 7,
   "metadata": {},
   "outputs": [],
   "source": [
    "import pandas as pd\n",
    "import numpy as np\n",
    "\n"
   ]
  },
  {
   "cell_type": "markdown",
   "metadata": {},
   "source": [
    "### Parse the Wikipedia page by using Pandas"
   ]
  },
  {
   "cell_type": "code",
   "execution_count": 3,
   "metadata": {},
   "outputs": [],
   "source": [
    "wiki = pd.read_html(\"http://en.wikipedia.org/wiki/List_of_postal_codes_of_Canada:_M\")\n"
   ]
  },
  {
   "cell_type": "markdown",
   "metadata": {},
   "source": [
    "### Filter the data and get only non-empty cells.\n",
    "### Remove some characters\n",
    "### Add all the data to a list"
   ]
  },
  {
   "cell_type": "code",
   "execution_count": 9,
   "metadata": {},
   "outputs": [],
   "source": [
    "alldata = []\n",
    "\n",
    "for column in wiki[0].columns:                           \n",
    "    tmp = wiki[0][column][ wiki[0][column].str.contains('Not assigned') == False ]    \n",
    "    for item in tmp.values:\n",
    "        first_idx = item.find(\"(\")  \n",
    "        item=item.replace('(','')\n",
    "        item=item.replace(')','')\n",
    "        item=item.replace(' /',',')\n",
    "        if len(item[first_idx:])<=1:\n",
    "            item = item + item[3:first_idx]\n",
    "        alldata.append([\n",
    "            item[0:3], \n",
    "            item[3:first_idx], \n",
    "            item[first_idx:]\n",
    "            ])\n",
    "        "
   ]
  },
  {
   "cell_type": "markdown",
   "metadata": {},
   "source": [
    "#### The final DataFrame is being populated below and then print the dataframe"
   ]
  },
  {
   "cell_type": "code",
   "execution_count": 10,
   "metadata": {},
   "outputs": [
    {
     "name": "stdout",
     "output_type": "stream",
     "text": [
      "    PostalCode                                            Borough Neighborhood\n",
      "0          M1A                                                               A\n",
      "1          M2A                                                               A\n",
      "2          M3A                                                               A\n",
      "3          M4A                                                               A\n",
      "4          M5A                                                               A\n",
      "..         ...                                                ...          ...\n",
      "381        The   Kingsway, Montgomery Road, Old Mill North Kin...            t\n",
      "382        Chu                   rch and Wellesleyrch and Wellesl            e\n",
      "383        Bus  iness reply mail Processing CentrEiness reply ...            r\n",
      "384        Old   Mill South, King's Mill Park, Sunnylea, Humbe...            s\n",
      "385        Mim  ico NW, The Queensway West, South of Bloor, Ki...            s\n",
      "\n",
      "[386 rows x 3 columns]\n"
     ]
    }
   ],
   "source": [
    "simplified = pd.DataFrame(alldata, columns=['PostalCode', 'Borough', 'Neighborhood'])\n",
    "print(simplified)"
   ]
  },
  {
   "cell_type": "code",
   "execution_count": null,
   "metadata": {},
   "outputs": [],
   "source": []
  }
 ],
 "metadata": {
  "kernelspec": {
   "display_name": "Python 3",
   "language": "python",
   "name": "python3"
  },
  "language_info": {
   "codemirror_mode": {
    "name": "ipython",
    "version": 3
   },
   "file_extension": ".py",
   "mimetype": "text/x-python",
   "name": "python",
   "nbconvert_exporter": "python",
   "pygments_lexer": "ipython3",
   "version": "3.7.6"
  }
 },
 "nbformat": 4,
 "nbformat_minor": 4
}
