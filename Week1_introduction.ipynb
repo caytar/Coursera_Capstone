{
 "cells": [
  {
   "cell_type": "markdown",
   "metadata": {},
   "source": [
    "# Introduction/Business Problem"
   ]
  },
  {
   "cell_type": "markdown",
   "metadata": {},
   "source": [
    "### Description of the problem and background discussion "
   ]
  },
  {
   "cell_type": "raw",
   "metadata": {},
   "source": [
    "Toronto is the most populous city in Canada, with a population of 2.7 million. It has many historical, cultural and business related places/centers. Toronto is also well known as a multicultural city. Besides the GDP per capita is over US$45K. Therefore this means people living in Toronto has considerably good income.\n",
    "In the light of this knowledge, starting a new job in Toronto especially related with foods and dishes will have a good audience. In this project, the appropriate locations will be discussed by using some data science methodologies with reliable data gathered from Wikipedia and Foursquare.\n"
   ]
  },
  {
   "cell_type": "markdown",
   "metadata": {},
   "source": [
    "### Data"
   ]
  },
  {
   "cell_type": "raw",
   "metadata": {},
   "source": [
    "These are the data sources that we will use in project :\n",
    "* Postal codes of Toronto ( http://en.wikipedia.org/w/index.php?title=List_of_postal_codes_of_Canada:_M&oldid=947772202 )\n",
    "* Coordinates of the postal codes by using geocoder library\n",
    "* "
   ]
  },
  {
   "cell_type": "code",
   "execution_count": null,
   "metadata": {},
   "outputs": [],
   "source": []
  }
 ],
 "metadata": {
  "kernelspec": {
   "display_name": "Python 3",
   "language": "python",
   "name": "python3"
  },
  "language_info": {
   "codemirror_mode": {
    "name": "ipython",
    "version": 3
   },
   "file_extension": ".py",
   "mimetype": "text/x-python",
   "name": "python",
   "nbconvert_exporter": "python",
   "pygments_lexer": "ipython3",
   "version": "3.7.6"
  }
 },
 "nbformat": 4,
 "nbformat_minor": 4
}
