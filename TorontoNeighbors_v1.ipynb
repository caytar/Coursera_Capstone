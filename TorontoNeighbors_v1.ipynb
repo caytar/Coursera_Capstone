{
 "cells": [
  {
   "cell_type": "markdown",
   "metadata": {},
   "source": [
    "# Segmenting and Clustering Neighborhoods in Toronto\n"
   ]
  },
  {
   "cell_type": "code",
   "execution_count": 1,
   "metadata": {},
   "outputs": [],
   "source": [
    "import pandas as pd\n",
    "import numpy as np\n",
    "\n"
   ]
  },
  {
   "cell_type": "markdown",
   "metadata": {},
   "source": [
    "### Parse the Wikipedia page by using Pandas"
   ]
  },
  {
   "cell_type": "code",
   "execution_count": 2,
   "metadata": {},
   "outputs": [],
   "source": [
    "wiki = pd.read_html(\"http://en.wikipedia.org/w/index.php?title=List_of_postal_codes_of_Canada:_M&oldid=947772202\")\n"
   ]
  },
  {
   "cell_type": "markdown",
   "metadata": {},
   "source": [
    "### Filter the data and get only non-empty cells.\n",
    "### Remove some characters\n",
    "### Add all the data to a list"
   ]
  },
  {
   "cell_type": "code",
   "execution_count": 3,
   "metadata": {},
   "outputs": [],
   "source": [
    "alldata = []\n",
    "\n",
    "for column in wiki[0].columns:                           \n",
    "    tmp = wiki[0][column][ wiki[0][column].str.contains('Not assigned') == False ]    \n",
    "    for item in tmp.values:\n",
    "        first_idx = item.find(\"(\")  \n",
    "        item=item.replace('(','')\n",
    "        item=item.replace(')','')\n",
    "        item=item.replace(' /',',')\n",
    "        if len(item[first_idx:])<=1:\n",
    "            item = item + item[3:first_idx]\n",
    "        alldata.append([\n",
    "            item[0:3], \n",
    "            item[3:first_idx], \n",
    "            item[first_idx:]\n",
    "            ])\n",
    "        "
   ]
  },
  {
   "cell_type": "markdown",
   "metadata": {},
   "source": [
    "### The final DataFrame is being populated below and then print the dataframe"
   ]
  },
  {
   "cell_type": "code",
   "execution_count": 4,
   "metadata": {},
   "outputs": [],
   "source": [
    "simplified = pd.DataFrame(alldata, columns=['PostalCode', 'Borough', 'Neighborhood'])\n",
    "#print(simplified)"
   ]
  },
  {
   "cell_type": "markdown",
   "metadata": {},
   "source": [
    "### Add new columns to DataFrame"
   ]
  },
  {
   "cell_type": "code",
   "execution_count": 5,
   "metadata": {},
   "outputs": [],
   "source": [
    "simplified.insert(loc=3,column=\"Latitude\",value=0.0)\n",
    "simplified.insert(loc=4,column=\"Longitude\",value=0.0)\n"
   ]
  },
  {
   "cell_type": "markdown",
   "metadata": {},
   "source": [
    "### Get the coordinates bu using geocoder and ARCGIS provider"
   ]
  },
  {
   "cell_type": "code",
   "execution_count": 6,
   "metadata": {},
   "outputs": [
    {
     "name": "stdout",
     "output_type": "stream",
     "text": [
      "    PostalCode             Borough  \\\n",
      "0          M1B         Scarborough   \n",
      "1          M1C         Scarborough   \n",
      "2          M1E         Scarborough   \n",
      "3          M1G         Scarborough   \n",
      "4          M1H         Scarborough   \n",
      "..         ...                 ...   \n",
      "98         M9N                York   \n",
      "99         M9P           Etobicoke   \n",
      "100        M9R           Etobicoke   \n",
      "101        M9V           Etobicoke   \n",
      "102        M9W  EtobicokeNorthwest   \n",
      "\n",
      "                                          Neighborhood   Latitude  Longitude  \n",
      "0                                       Malvern, Rouge  43.808626 -79.189913  \n",
      "1               Rouge Hill, Port Union, Highland Creek  43.785779 -79.157368  \n",
      "2                    Guildwood, Morningside, West Hill  43.765806 -79.185284  \n",
      "3                                               Woburn  43.771545 -79.218135  \n",
      "4                                            Cedarbrae  43.768791 -79.238813  \n",
      "..                                                 ...        ...        ...  \n",
      "98                                              Weston  43.705496 -79.520370  \n",
      "99                                           Westmount  43.696296 -79.533126  \n",
      "100  Kingsview Village, St. Phillips, Martin Grove ...  43.686887 -79.565507  \n",
      "101  South Steeles, Silverstone, Humbergate, Jamest...  43.744055 -79.581203  \n",
      "102  Clairville, Humberwood, Woodbine Downs, West H...  43.644360 -79.567130  \n",
      "\n",
      "[103 rows x 5 columns]\n"
     ]
    }
   ],
   "source": [
    "import geocoder \n",
    "\n",
    "for index,row in simplified.iterrows():\n",
    "    g = geocoder.arcgis(row[\"Borough\"] + \", \" + row[\"PostalCode\"] + \", Canada\" )\n",
    "    simplified.at[index,'Latitude'] = g.latlng[0]\n",
    "    simplified.at[index,'Longitude'] = g.latlng[1]\n",
    "\n",
    "print(simplified)"
   ]
  },
  {
   "cell_type": "code",
   "execution_count": null,
   "metadata": {},
   "outputs": [],
   "source": []
  }
 ],
 "metadata": {
  "kernelspec": {
   "display_name": "Python 3",
   "language": "python",
   "name": "python3"
  },
  "language_info": {
   "codemirror_mode": {
    "name": "ipython",
    "version": 3
   },
   "file_extension": ".py",
   "mimetype": "text/x-python",
   "name": "python",
   "nbconvert_exporter": "python",
   "pygments_lexer": "ipython3",
   "version": "3.7.6"
  }
 },
 "nbformat": 4,
 "nbformat_minor": 4
}
