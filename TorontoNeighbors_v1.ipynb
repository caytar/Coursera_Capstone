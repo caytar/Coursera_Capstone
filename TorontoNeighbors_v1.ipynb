{
 "cells": [
  {
   "cell_type": "markdown",
   "metadata": {},
   "source": [
    "## Segmenting and Clustering Neighborhoods in Toronto\n"
   ]
  },
  {
   "cell_type": "code",
   "execution_count": 11,
   "metadata": {},
   "outputs": [],
   "source": [
    "import pandas as pd\n",
    "import numpy as np\n",
    "\n"
   ]
  },
  {
   "cell_type": "markdown",
   "metadata": {},
   "source": [
    "### Parse the Wikipedia page by using Pandas"
   ]
  },
  {
   "cell_type": "code",
   "execution_count": 12,
   "metadata": {},
   "outputs": [],
   "source": [
    "wiki = pd.read_html(\"http://en.wikipedia.org/w/index.php?title=List_of_postal_codes_of_Canada:_M&oldid=947772202\")\n"
   ]
  },
  {
   "cell_type": "markdown",
   "metadata": {},
   "source": [
    "### Filter the data and get only non-empty cells.\n",
    "### Remove some characters\n",
    "### Add all the data to a list"
   ]
  },
  {
   "cell_type": "code",
   "execution_count": 13,
   "metadata": {},
   "outputs": [],
   "source": [
    "alldata = []\n",
    "\n",
    "for column in wiki[0].columns:                           \n",
    "    tmp = wiki[0][column][ wiki[0][column].str.contains('Not assigned') == False ]    \n",
    "    for item in tmp.values:\n",
    "        first_idx = item.find(\"(\")  \n",
    "        item=item.replace('(','')\n",
    "        item=item.replace(')','')\n",
    "        item=item.replace(' /',',')\n",
    "        if len(item[first_idx:])<=1:\n",
    "            item = item + item[3:first_idx]\n",
    "        alldata.append([\n",
    "            item[0:3], \n",
    "            item[3:first_idx], \n",
    "            item[first_idx:]\n",
    "            ])\n",
    "        "
   ]
  },
  {
   "cell_type": "markdown",
   "metadata": {},
   "source": [
    "#### The final DataFrame is being populated below and then print the dataframe"
   ]
  },
  {
   "cell_type": "code",
   "execution_count": 14,
   "metadata": {},
   "outputs": [
    {
     "name": "stdout",
     "output_type": "stream",
     "text": [
      "    PostalCode             Borough  \\\n",
      "0          M1B         Scarborough   \n",
      "1          M1C         Scarborough   \n",
      "2          M1E         Scarborough   \n",
      "3          M1G         Scarborough   \n",
      "4          M1H         Scarborough   \n",
      "..         ...                 ...   \n",
      "98         M9N                York   \n",
      "99         M9P           Etobicoke   \n",
      "100        M9R           Etobicoke   \n",
      "101        M9V           Etobicoke   \n",
      "102        M9W  EtobicokeNorthwest   \n",
      "\n",
      "                                          Neighborhood  \n",
      "0                                       Malvern, Rouge  \n",
      "1               Rouge Hill, Port Union, Highland Creek  \n",
      "2                    Guildwood, Morningside, West Hill  \n",
      "3                                               Woburn  \n",
      "4                                            Cedarbrae  \n",
      "..                                                 ...  \n",
      "98                                              Weston  \n",
      "99                                           Westmount  \n",
      "100  Kingsview Village, St. Phillips, Martin Grove ...  \n",
      "101  South Steeles, Silverstone, Humbergate, Jamest...  \n",
      "102  Clairville, Humberwood, Woodbine Downs, West H...  \n",
      "\n",
      "[103 rows x 3 columns]\n"
     ]
    }
   ],
   "source": [
    "simplified = pd.DataFrame(alldata, columns=['PostalCode', 'Borough', 'Neighborhood'])\n",
    "print(simplified)"
   ]
  },
  {
   "cell_type": "code",
   "execution_count": null,
   "metadata": {},
   "outputs": [],
   "source": []
  }
 ],
 "metadata": {
  "kernelspec": {
   "display_name": "Python 3",
   "language": "python",
   "name": "python3"
  },
  "language_info": {
   "codemirror_mode": {
    "name": "ipython",
    "version": 3
   },
   "file_extension": ".py",
   "mimetype": "text/x-python",
   "name": "python",
   "nbconvert_exporter": "python",
   "pygments_lexer": "ipython3",
   "version": "3.7.6"
  }
 },
 "nbformat": 4,
 "nbformat_minor": 4
}
